{
 "cells": [
  {
   "cell_type": "code",
   "execution_count": 1,
   "id": "211f9830",
   "metadata": {},
   "outputs": [
    {
     "name": "stderr",
     "output_type": "stream",
     "text": [
      "2025-09-19 17:09:39,264 INFO numba.cuda.cudadrv.driver init\n"
     ]
    }
   ],
   "source": [
    "# Imports and environment setup\n",
    "import sys, subprocess, requests, pyarrow, os\n",
    "import pandas as pd\n",
    "import datetime as dt\n",
    "import dotenv\n",
    "import dune_client\n",
    "from dune_client.types import QueryParameter\n",
    "from dune_client.client import DuneClient\n",
    "from dune_client.query import QueryBase\n",
    "import numpy as np\n",
    "dotenv.load_dotenv(dotenv_path=dotenv.find_dotenv(filename=\".env\"))\n",
    "from tsfresh import extract_features\n",
    "from tsfresh.utilities.dataframe_functions import roll_time_series\n",
    "from tsfresh.feature_extraction import (\n",
    "    MinimalFCParameters, \n",
    "    EfficientFCParameters, \n",
    "    ComprehensiveFCParameters\n",
    ")\n",
    "import stumpy\n",
    "# from CryptoPAForecastingTsfreshXGboost import My_FE_Wraps, My_FS_Wraps, My_API_Wraps, My_ML_Wraps \n",
    "import xgboost as xgb\n",
    "from tsfresh import select_features"
   ]
  },
  {
   "cell_type": "code",
   "execution_count": null,
   "id": "f159f46b",
   "metadata": {},
   "outputs": [],
   "source": [
    "# # Dune API Call Function\n",
    "# economic_security = 1933076\n",
    "# daily_dex_volume = 4388\n",
    "# btc_etf_flows = 5795477\n",
    "# eth_etf_flows = 5795645\n",
    "# total_defi_users= 2972\n",
    "# median_gas= 2981260\n",
    "# def fetch_dune_query(query_id, df=True):\n",
    "#     DUNE_API_KEY = os.environ.get(\"DUNE_API_KEY\")\n",
    "#     dune = DuneClient(\n",
    "#         api_key= DUNE_API_KEY,\n",
    "#         request_timeout=120,\n",
    "#         base_url=\"https://api.dune.com\"\n",
    "#     )\n",
    "#     if df ==True:query_result =dune.get_latest_result_dataframe(query_id)\n",
    "#     else: query_result = dune.get_latest_result(query_id)\n",
    "#     return query_result"
   ]
  },
  {
   "cell_type": "code",
   "execution_count": null,
   "id": "f83881ea",
   "metadata": {},
   "outputs": [],
   "source": [
    "# # X API Call Function\n",
    "# X_BASE = \"https://api.twitter.com/2\"\n",
    "# BEARER = os.environ.get(\"X_BEARER_TOKEN\", \"\")\n",
    "\n",
    "# def X_API_Call(data_request=\"Counts\",\n",
    "#                query=\"(ETH) lang:en -is:tweet\",\n",
    "#                granularity=\"day\",\n",
    "#                max_results=1,\n",
    "#                start_time=dt.datetime.now()-dt.timedelta(days=1),\n",
    "#                end_time=dt.datetime.now(),\n",
    "#                next_token=None):\n",
    "# \theaders = {\"Authorization\": f\"Bearer {BEARER}\"}\n",
    "\n",
    "# \tif data_request == \"Counts\":\n",
    "# \t\tpath = \"/tweets/counts/recent\"\n",
    "# \t\tparams = {\"query\": query, \"granularity\": granularity}\n",
    "# \t\tif start_time: params[\"start_time\"] = start_time\n",
    "# \t\tif end_time:   params[\"end_time\"] = end_time\n",
    "# \t\tif next_token: params[\"next_token\"] = next_token\n",
    "\n",
    "# \telif data_request == \"Search\":\n",
    "# \t\tpath = \"/tweets/search/recent\"\n",
    "# \t\tparams = {\n",
    "# \t\t\t\"query\": query,\n",
    "# \t\t\t\"max_results\": max_results,\n",
    "# \t\t\t\"tweet.fields\": \"created_at,lang,public_metrics,author_id,referenced_tweets\",\n",
    "# \t\t\t\"expansions\": \"author_id\",\n",
    "# \t\t\t\"user.fields\": \"created_at,verified\"\n",
    "# \t\t}\n",
    "# \t\tif start_time: params[\"start_time\"] = start_time\n",
    "# \t\tif end_time:   params[\"end_time\"] = end_time\n",
    "# \t\tif next_token: params[\"next_token\"] = next_token\n",
    "\n",
    "# \telse:\n",
    "# \t\treturn None\n",
    "\n",
    "# \turl = X_BASE + path\n",
    "# \tjs = requests.get(url, headers=headers, params=params, timeout=20).json()\n",
    "# \treturn js"
   ]
  },
  {
   "cell_type": "code",
   "execution_count": 2,
   "id": "7caeae12",
   "metadata": {},
   "outputs": [],
   "source": [
    "# Deribit API Call Function\n",
    "def Deribit_API_Call(data_request=\"DVOL\", currency=\"BTC\", resolution='1D', days=31, instrument=\"BTC-5APR19\", kind=\"option\"):\n",
    "    if data_request == \"DVOL\":\n",
    "        rpc = {\n",
    "            \"method\": \"public/get_volatility_index_data\",\n",
    "            \"params\": {\n",
    "                \"currency\":currency,\n",
    "                \"resolution\":resolution,\n",
    "                \"end_timestamp\": int(dt.datetime.now().timestamp())*1000,\n",
    "                \"start_timestamp\": int((dt.datetime.now()-dt.timedelta(days=days)).timestamp())*1000\n",
    "            }\n",
    "        }\n",
    "    elif data_request == \"HVOL\":\n",
    "        rpc = {\n",
    "            \"method\": \"public/get_historical_volatility\",\n",
    "            \"params\": {\n",
    "                \"currency\":currency,\n",
    "                \"resolution\":resolution,\n",
    "                \"end_timestamp\": int(dt.datetime.now().timestamp())*1000,\n",
    "                \"start_timestamp\": int((dt.datetime.now()-dt.timedelta(days=days)).timestamp())*1000\n",
    "            }\n",
    "        }\n",
    "    elif data_request == \"Instruments\":\n",
    "        rpc = {\n",
    "            \"method\": \"public/get_instruments\",\n",
    "            \"params\": {\"kind\": kind}  \n",
    "        }\n",
    "    elif data_request == \"TradingView\":\n",
    "        rpc = {\n",
    "            \"method\": \"public/get_tradingview_chart_data\",\n",
    "            \"params\": {\n",
    "                \"instrument_name\": instrument,\n",
    "                \"resolution\": resolution,\n",
    "                \"start_timestamp\": int((dt.datetime.now()-dt.timedelta(days=days)).timestamp())*1000,\n",
    "                \"end_timestamp\": int(dt.datetime.now().timestamp())*1000,\n",
    "            }  \n",
    "        }\n",
    "    json = requests.post(\"https://www.deribit.com/api/v2/\", json=rpc).json()\n",
    "    return json['result']"
   ]
  },
  {
   "cell_type": "code",
   "execution_count": 8,
   "id": "42261b36",
   "metadata": {},
   "outputs": [
    {
     "data": {
      "text/plain": [
       "'CG-r57ENE22zzPUiLmjnFK7YHw'"
      ]
     },
     "execution_count": 8,
     "metadata": {},
     "output_type": "execute_result"
    }
   ],
   "source": [
    "COINGECKO_API_KEY"
   ]
  },
  {
   "cell_type": "code",
   "execution_count": null,
   "id": "4591e492",
   "metadata": {},
   "outputs": [],
   "source": [
    "# CoinGecko API Call Functions\n",
    "# ID_MAP\n",
    "def get_ID_map(coins):\n",
    "    url = \"https://api.coingecko.com/api/v3/coins/list\"\n",
    "    headers = {\n",
    "        \"accept\": \"application/json\",\n",
    "        \"x-cg-demo-api-key\": \"CG-r57ENE22zzPUiLmjnflatdf['flatdf['flatdf['y']']']FK7YHw\"\n",
    "    }\n",
    "    response = requests.get(url, headers=headers)\n",
    "    id_map = pd.DataFrame(response.json()).set_index('name')\n",
    "    return id_map.loc[coins]\n",
    "\n",
    "# Top Coins by Marketcap- Investment Universe\n",
    "def get_top_mc_coins(number):\n",
    "    url = \"https://api.coingecko.com/api/v3/coins/markets?vs_currency=usd\"\n",
    "    headers = {\n",
    "        \"accept\": \"application/json\",\n",
    "        \"x-cg-demo-api-key\": \"CG-r57ENE22zzPUiLmjnyFK7YHw\"\n",
    "    }\n",
    "    response = pd.DataFrame(requests.get(url, headers=headers).json())\n",
    "    current_stats= response.drop(['image', 'roi', 'last_updated'], axis=1)\n",
    "    investment_universe = response.head(number)['id'].values\n",
    "    return current_stats, investment_universe\n",
    "\n",
    "# HISTORICAL PRICE ACTION\n",
    "# API restraints = [only up to last 365, more than 90 days lose hourly granularity]\n",
    "def get_raw_data(coins, days):\n",
    "    raw_data= {}\n",
    "    end = int(dt.datetime.now().timestamp())*1000\n",
    "    start= int((dt.datetime.now()-dt.timedelta(days=days)).timestamp())*1000\n",
    "    headers = {\n",
    "        \"accept\": \"application/json\",\n",
    "        \"x-cg-demo-api-key\": \"CG-r57ENE22zzPUiLmjnyFK7YHw\"\n",
    "    }\n",
    "    for coin in coins:\n",
    "        try:\n",
    "            url = f\"https://api.coingecko.com/api/v3/coins/{coin}/market_chart/range?vs_currency=usd&from={start}&to={end}\"\n",
    "            response = requests.get(url, headers=headers)\n",
    "            raw_data[coin] = response.json()\n",
    "        except: continue\n",
    "    return raw_data\n",
    "\n",
    "def get_chart_data(coins, days):\n",
    "    if days <=1: freq= '5min'\n",
    "    else: freq='h'\n",
    "    end = int(dt.datetime.now().timestamp())*1000\n",
    "    start= int((dt.datetime.now()-dt.timedelta(days=days)).timestamp())*1000\n",
    "    headers = {\n",
    "        \"accept\": \"application/json\",\n",
    "        \"x-cg-demo-api-key\": \"CG-r57ENE22zzPUiLmjnyFK7YHw\"\n",
    "    }\n",
    "    historicals = {}\n",
    "    for coin in coins:\n",
    "        try:\n",
    "            url = f\"https://api.coingecko.com/api/v3/coins/{coin}/market_chart/range?vs_currency=usd&from={start}&to={end}\"\n",
    "            response = requests.get(url, headers=headers)\n",
    "            prices = pd.DataFrame(response.json()['prices'], columns= ['datetime', f'prices_{coin}'])\n",
    "            marketcaps = pd.DataFrame(response.json()['market_caps'], columns= ['datetime', f'marketcaps_{coin}'])\n",
    "            total_vol= pd.DataFrame(response.json()['total_volumes'], columns= ['datetime', f'total_volumes_{coin}'])\n",
    "            historicals[coin] = pd.merge(prices, marketcaps)\n",
    "            historicals[coin] = pd.merge(historicals[coin],total_vol)\n",
    "            historicals[coin]['datetime'] = historicals[coin]['datetime'] \n",
    "            historicals[coin]['datetime'] = historicals[coin]['datetime'].apply(pd.to_datetime, unit='ms', utc=True)\n",
    "            historicals[coin].set_index('datetime', inplace=True)\n",
    "            historicals[coin].index = historicals[coin].index.tz_convert('CET')\n",
    "            historicals[coin]= historicals[coin].resample(freq).last().ffill().dropna()\n",
    "        except:continue\n",
    "    return historicals\n",
    "\n"
   ]
  },
  {
   "cell_type": "code",
   "execution_count": null,
   "id": "021e22be",
   "metadata": {},
   "outputs": [],
   "source": [
    "# # Dune Metrics: Collection & Processing (daily, all timeframes)\n",
    "# # daily dex vol: 1month max\n",
    "# # btc etf flows: 1month max\n",
    "# # economic security: all time\n",
    "# btcetfflows = fetch_dune_query(btc_etf_flows)\n",
    "# btcetfflows= btcetfflows.rename(columns={'time':'day'})\n",
    "# btcetfflows= btcetfflows.rename(columns={'amount_usd':'btc_etf_flows'})\n",
    "# btcetfflows= btcetfflows[['day','btc_etf_flows']].groupby('day').sum()\n",
    "# btcetfflows.index = pd.to_datetime(btcetfflows.index)\n",
    "# econosec= fetch_dune_query(economic_security)\n",
    "# econosec['time']= pd.to_datetime(econosec['time'])\n",
    "# econosec.rename(columns={'time':'day'}, inplace=True)\n",
    "# econosec= econosec.set_index('day').sort_index().drop('staked_validators', axis=1)\n",
    "# dailydexvol= fetch_dune_query(daily_dex_volume)\n",
    "# dailydexvol= dailydexvol.drop('project', axis=1)\n",
    "# dailydexvol['usd_volume']= pd.to_numeric(dailydexvol['usd_volume'], errors='coerce')\n",
    "# dailydexvol= dailydexvol.rename(columns={'_col1':'day'})\n",
    "# dailydexvol= dailydexvol.groupby('day').sum()\n",
    "# dailydexvol.index = pd.to_datetime(dailydexvol.index)\n",
    "# dune =btcetfflows.join(econosec, how='inner').join(dailydexvol, how='inner').tzlocalize(None)\n",
    "# dune"
   ]
  },
  {
   "cell_type": "code",
   "execution_count": null,
   "id": "bb5a5e2d",
   "metadata": {},
   "outputs": [],
   "source": [
    "# # Dune Metrics: Collection & Processing (daily, only unconstrained timeframes)\n",
    "# econosec= fetch_dune_query(economic_security)\n",
    "# econosec['time']= pd.to_datetime(econosec['time'])\n",
    "# econosec.rename(columns={'time':'date'}, inplace=True)\n",
    "# econosec= econosec.set_index('date').sort_index().drop('staked_validators', axis=1)\n",
    "# btcetfflows = fetch_dune_query(btc_etf_flows)\n",
    "# btcetfflows= btcetfflows.rename(columns={'time':'date'})\n",
    "# btcetfflows= btcetfflows.rename(columns={'amount_usd':'btc_etf_flows(usd)'})\n",
    "# btcetfflows= btcetfflows[['date','btc_etf_flows(usd)']].groupby('date').sum()\n",
    "# btcetfflows.index = pd.to_datetime(btcetfflows.index)\n",
    "# totaldefiusers= fetch_dune_query(total_defi_users).set_index('date').sort_index()\n",
    "# totaldefiusers.index= pd.to_datetime(totaldefiusers.index)\n",
    "# totaldefiusers= totaldefiusers.tz_localize(None)\n",
    "# mediangas= fetch_dune_query(median_gas)\n",
    "# mediangas.rename(columns={'time':'date'}, inplace=True)\n",
    "# mediangas.set_index('date', inplace=True)\n",
    "# mediangas.index = pd.to_datetime(mediangas.index)\n",
    "# mediangas= mediangas.tz_localize(None)\n",
    "# mediangas = mediangas.drop('median_eth_transfer_gas', axis=1).sort_index()\n",
    "# ethetfflows = fetch_dune_query(eth_etf_flows)\n",
    "# ethetfflows= ethetfflows.rename(columns={'time':'date'})\n",
    "# ethetfflows= ethetfflows.rename(columns={'net_flow_usd':'eth_etf_flows(usd)'})\n",
    "# ethetfflows['eth_etf_flows(usd)'] = pd.to_numeric(ethetfflows['eth_etf_flows(usd)'], errors='coerce')\n",
    "# ethetfflows= ethetfflows[['date','eth_etf_flows(usd)']].groupby('date').sum()\n",
    "# ethetfflows.index = pd.to_datetime(ethetfflows.index)\n",
    "# dune = econosec.tz_localize(None).join(btcetfflows.tz_localize(None), how='inner').join(totaldefiusers, how='inner').join(mediangas, how='inner').join(ethetfflows, how='inner')"
   ]
  },
  {
   "cell_type": "code",
   "execution_count": null,
   "id": "4a74efdd",
   "metadata": {},
   "outputs": [],
   "source": [
    "# Load Dune Metrics from CSV\n",
    "dune = pd.read_csv('OutputData/Dune_Metrics.csv', index_col='date', parse_dates=True)\n",
    "dune"
   ]
  },
  {
   "cell_type": "code",
   "execution_count": 5,
   "id": "0ea6bac4",
   "metadata": {},
   "outputs": [],
   "source": [
    "# Deribit DVOL (volatility-index based on options market): Collection & Processing (All granularities & max days available)\n",
    "Dvol_raw= Deribit_API_Call(data_request=\"DVOL\", currency=\"BTC\", resolution='1D', days=365)['data']\n",
    "Dvol = pd.DataFrame(Dvol_raw, columns=['day', 'open', 'high', 'low', 'Dvol']).set_index('day')\n",
    "Dvol.index = pd.to_datetime(Dvol.index, unit='ms')\n",
    "Dvol.sort_index(inplace=True)\n",
    "Dvol = Dvol['Dvol']"
   ]
  },
  {
   "cell_type": "code",
   "execution_count": 4,
   "id": "e5d1ac07",
   "metadata": {},
   "outputs": [],
   "source": [
    "# CoinGecko Price Action (price, MC, volume): Collection & Processing (max 365 days)\n",
    "coins = get_top_mc_coins(10)[1]\n",
    "timeframe = 365\n",
    "price_data = get_chart_data(coins, timeframe)"
   ]
  },
  {
   "cell_type": "code",
   "execution_count": 7,
   "id": "a252ba4b",
   "metadata": {},
   "outputs": [
    {
     "data": {
      "text/plain": [
       "{}"
      ]
     },
     "execution_count": 7,
     "metadata": {},
     "output_type": "execute_result"
    }
   ],
   "source": [
    "price_data"
   ]
  },
  {
   "cell_type": "code",
   "execution_count": null,
   "id": "319a542d",
   "metadata": {},
   "outputs": [],
   "source": [
    "# Combined Dataset for Modeling\n",
    "target = 'ethereum'\n",
    "OCA= dune.join(Dvol, how='inner')\n",
    "for coin in coins:\n",
    "    x = price_data[coin].tz_localize(None).groupby(pd.Grouper(freq='D')).last().ffill()\n",
    "    OCA = OCA.join(x, how='inner')\n"
   ]
  },
  {
   "cell_type": "code",
   "execution_count": null,
   "id": "4aad3273",
   "metadata": {},
   "outputs": [],
   "source": [
    "# # Load combined dataset from file\n",
    "# OCA = pd.read_csv('OutputData/OCA_firstdiff.csv', parse_dates=['Unnamed: 0'], index_col='Unnamed: 0')"
   ]
  },
  {
   "cell_type": "code",
   "execution_count": null,
   "id": "7a69a210",
   "metadata": {},
   "outputs": [],
   "source": [
    "# Target Definintion & Computation\n",
    "target = 'ethereum'\n",
    "OCA[f'realized_vol_{target}'] = abs(OCA[f'prices_{target}'].pct_change())\n",
    "OCA_firstdiff= OCA.diff().dropna()"
   ]
  },
  {
   "cell_type": "code",
   "execution_count": null,
   "id": "cff17844",
   "metadata": {},
   "outputs": [],
   "source": [
    "# Correlations with target \n",
    "corrwithstandard=abs(OCA.corr()['realized_vol_ethereum']).sort_values(ascending=False)\n",
    "# first diff correlations with target \n",
    "corrwithdiff= abs(OCA_firstdiff.corr()['realized_vol_ethereum']).sort_values(ascending=False)\n",
    "# pct change correlations with target\n",
    "corrwithpctchange= abs(OCA.pct_change().corr()['realized_vol_ethereum']).sort_values(ascending=False)"
   ]
  },
  {
   "cell_type": "code",
   "execution_count": null,
   "id": "4a32cb19",
   "metadata": {},
   "outputs": [],
   "source": [
    "# mean correlations\n",
    "print('avgcorrwithstandard '+ str(np.mean(corrwithstandard)))\n",
    "print('avgcorrwithpctchange '+ str(np.mean(corrwithpctchange)))\n",
    "print('avgcorrwithdiff '+ str(np.mean(corrwithdiff)))"
   ]
  },
  {
   "cell_type": "code",
   "execution_count": null,
   "id": "adc75481",
   "metadata": {},
   "outputs": [],
   "source": [
    "# Stacked & Rolled Dataframe Construction\n",
    "stacked= OCA_firstdiff.reset_index().melt(id_vars=['index'])\n",
    "rolled= roll_time_series(stacked, column_id='variable', column_sort='index', max_timeshift=7, n_jobs=18)\n",
    "rolled=rolled.dropna()"
   ]
  },
  {
   "cell_type": "code",
   "execution_count": null,
   "id": "21566b41",
   "metadata": {},
   "outputs": [],
   "source": [
    "# Feature Extraction with tsfresh\n",
    "features_raw= extract_features(\n",
    "    rolled, column_id='id', column_sort='index', \n",
    "    column_kind='variable', column_value='value', \n",
    "    default_fc_parameters=ComprehensiveFCParameters(), \n",
    "    n_jobs=18\n",
    ")\n",
    "count=0\n",
    "for key in features_raw.index.levels[0]:\n",
    "    if count == 0: df= features_raw.loc[key].dropna(axis=1)\n",
    "    else: df = df.merge(features_raw.loc[key].dropna(axis=1), left_index=True, right_index=True, how='inner')\n",
    "    count += 1\n",
    "features = df"
   ]
  },
  {
   "cell_type": "code",
   "execution_count": null,
   "id": "7414e945",
   "metadata": {},
   "outputs": [],
   "source": [
    "# Target Construction & test train split\n",
    "y_future= OCA_firstdiff['realized_vol_ethereum'].shift(-1).rename('y_future')\n",
    "fullfeat=features.join(y_future, how='inner')\n",
    "fullfeat.dropna(inplace=True)\n",
    "fullfeat.to_csv('OutputData/fullfeat.csv')\n",
    "X_train = fullfeat.drop('y_future', axis=1).iloc[ : int(-len(fullfeat)/10)]\n",
    "y_train = fullfeat['y_future'].iloc[ : int(-len(fullfeat)/10)]\n",
    "X_test = fullfeat.drop('y_future', axis=1).iloc[int(-len(fullfeat)/10) : ]\n",
    "y_test = fullfeat['y_future'].iloc[int(-len(fullfeat)/10) : ]"
   ]
  },
  {
   "cell_type": "code",
   "execution_count": null,
   "id": "0a342e10",
   "metadata": {},
   "outputs": [],
   "source": [
    "# Select Features\n",
    "X_train_filtered = select_features(\n",
    "    X_train, y_train, hypotheses_independent=False, \n",
    "    ml_task='regression', n_jobs=20, fdr_level=0.1 \n",
    ")"
   ]
  },
  {
   "cell_type": "code",
   "execution_count": null,
   "id": "2767331f",
   "metadata": {},
   "outputs": [],
   "source": [
    "# Fit & Assess Performance of Simple XGBoost Model\n",
    "base_model = xgb.XGBRegressor(\n",
    "        eval_metric='mae',\n",
    "        verbosity=0,\n",
    "        early_stopping_rounds=10,\n",
    "    )\n",
    "eval_model= base_model.fit(X_train_filtered, y_train, eval_set=[(X_train_filtered, y_train)], verbose=10)\n",
    "print(\"Best Score: \", eval_model.best_score)\n",
    "print(\"Best Score / Median y: \", eval_model.best_score/np.median(abs(y_train)))\n",
    "# Prediction best scores log (timeshift = 7, 1 period ahead, change in volatility):\n",
    "# Best Score:  0.00045465779426869\n",
    "# Best Score / Median y:  0.024029231129997403 "
   ]
  },
  {
   "cell_type": "code",
   "execution_count": null,
   "id": "bd8f2ba8",
   "metadata": {},
   "outputs": [],
   "source": [
    "# Predictions & Visualization\n",
    "predictions= base_model.predict(X_test[X_train_filtered.columns])\n",
    "realized = y_test\n",
    "from sklearn.metrics import r2_score\n",
    "print(\"R^2: \", r2_score(realized, predictions))\n",
    "import matplotlib.pyplot as plt\n",
    "plt.figure(figsize=(40,6))\n",
    "plt.plot(realized.index, realized, label='Realized', color='blue')\n",
    "plt.plot(realized.index, predictions, label='Predicted', color='red')\n",
    "plt.title('Realized vs Predicted')\n",
    "plt.xlabel('Time')\n",
    "plt.ylabel('Value')\n",
    "plt.legend()\n",
    "plt.show()"
   ]
  },
  {
   "cell_type": "code",
   "execution_count": null,
   "id": "8e7699c0",
   "metadata": {},
   "outputs": [],
   "source": [
    "# Compute MASE for model predictions: below 0.5 is very good for timeseries = model error less than half of naive\n",
    "mae_model = np.mean(np.abs(realized - predictions))\n",
    "naive_pred = realized.shift(1)\n",
    "mae_naive = np.mean(np.abs(realized[1:] - naive_pred[1:]))\n",
    "mase = mae_model / mae_naive\n",
    "print(\"MASE:\", mase)"
   ]
  },
  {
   "cell_type": "code",
   "execution_count": null,
   "id": "5357ad72",
   "metadata": {},
   "outputs": [],
   "source": [
    "# Predict Tomorrow's Change in Volatility:\n",
    "latest_features= features.iloc[-1:][X_train_filtered.columns]\n",
    "pred_last= pd.Series(base_model.predict(latest_features)[-1], index=[features.index[-1] + pd.Timedelta(days=1)])\n",
    "df = pd.DataFrame(price_data[target][f'prices_{target}'].tz_localize(None).groupby(pd.Grouper(freq='D')).last().ffill())\n",
    "df[f'realized_vol_{target}'] = abs(df[f'prices_{target}'].pct_change())\n",
    "real_last = pd.Series(df.diff()['realized_vol_ethereum'].loc[[features.index[-1] + pd.Timedelta(days=1)]][-1], index=[features.index[-1] + pd.Timedelta(days=1)])\n",
    "pd.concat([pred_last, real_last], axis=1, keys=['Predicted Change in Volatility', 'Realized Change in Volatility'], join='inner')\n"
   ]
  },
  {
   "cell_type": "code",
   "execution_count": null,
   "id": "a28d36d3",
   "metadata": {},
   "outputs": [],
   "source": [
    "# Feature Importance\n",
    "featureimportances=pd.DataFrame(base_model.feature_importances_, index=X_train_filtered.columns, columns=['importance']).sort_values('importance', ascending=False)\n",
    "featureimportances[featureimportances['importance']>0]"
   ]
  }
 ],
 "metadata": {
  "kernelspec": {
   "display_name": "VF.venv",
   "language": "python",
   "name": "python3"
  },
  "language_info": {
   "codemirror_mode": {
    "name": "ipython",
    "version": 3
   },
   "file_extension": ".py",
   "mimetype": "text/x-python",
   "name": "python",
   "nbconvert_exporter": "python",
   "pygments_lexer": "ipython3",
   "version": "3.13.7"
  }
 },
 "nbformat": 4,
 "nbformat_minor": 5
}
