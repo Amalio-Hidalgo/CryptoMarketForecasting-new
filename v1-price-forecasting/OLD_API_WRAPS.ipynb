{
 "cells": [
  {
   "cell_type": "markdown",
   "metadata": {},
   "source": [
    "API REQUESTS AND JSON READ FUNCTIONS\n",
    "-Inputs = Coins, Timeframe"
   ]
  },
  {
   "cell_type": "code",
   "execution_count": null,
   "metadata": {},
   "outputs": [],
   "source": [
    "# # Imports\n",
    "# import datetime as dt\n",
    "# import numpy as np\n",
    "# import matplotlib\n",
    "# import matplotlib.pyplot as plt\n",
    "# import cupy as cp\n",
    "# import dask.dataframe as dd\n",
    "# import My_API_wraps\n",
    "# import My_feature_extraction_wraps\n",
    "# import my_feature_selection_wraps\n",
    "# from dask.distributed import Client, LocalCluster\n",
    "# import xgboost\n",
    "# from sklearn.metrics import r2_score\n",
    "# import pandas as pd\n",
    "# from xgboost import dask as dxgb\n",
    "# from dask_ml.model_selection import train_test_split\n",
    "# from dask_ml.model_selection import ShuffleSplit\n",
    "# from dask_ml.model_selection import KFold\n",
    "# import tqdm\n",
    "# import os\n",
    "# import warnings\n"
   ]
  },
  {
   "cell_type": "code",
   "execution_count": 1,
   "metadata": {},
   "outputs": [],
   "source": [
    "import matplotlib\n",
    "import matplotlib.pyplot as plt\n",
    "import dask.dataframe as dd\n",
    "import My_API_Wraps\n",
    "import My_FE_Wraps\n",
    "import My_FS_Wraps\n",
    "from dask.distributed import Client, LocalCluster\n",
    "import xgboost\n",
    "from sklearn.metrics import r2_score\n",
    "import pandas as pd\n",
    "import datetime as dt\n",
    "import numpy as np\n",
    "from xgboost import dask as dxgb\n",
    "import os\n",
    "import cupy as cp"
   ]
  },
  {
   "cell_type": "code",
   "execution_count": null,
   "metadata": {},
   "outputs": [],
   "source": [
    "# # CPU Cluster\n",
    "# cluster = LocalCluster(\n",
    "#             n_workers=4,\n",
    "#             threads_per_worker=5,\n",
    "#             processes=True,\n",
    "#             # memory_limit='12GB',\n",
    "#             dashboard_address=':8787',\n",
    "#             resources = {'GPU':1}\n",
    "#         )"
   ]
  },
  {
   "cell_type": "code",
   "execution_count": null,
   "metadata": {},
   "outputs": [],
   "source": [
    "# Configure CUDA\n",
    "os.environ[\"CUDA_VISIBLE_DEVICES\"] = \"0\"\n",
    "cp.cuda.set_allocator(cp.cuda.MemoryPool().malloc)\n",
    "\n",
    "cluster = LocalCluster(\n",
    "    n_workers=1,              # Single worker for GPU\n",
    "    processes=False,          # Thread-based\n",
    "    threads_per_worker=20,    # Maximum threads for i7-13700H\n",
    "    memory_limit='22GB',      # 75% of system RAM\n",
    "    dashboard_address=':8788',\n",
    "    resources={'GPU': 1}\n",
    ")"
   ]
  },
  {
   "cell_type": "code",
   "execution_count": 3,
   "metadata": {},
   "outputs": [
    {
     "data": {
      "text/html": [
       "<div>\n",
       "    <div style=\"width: 24px; height: 24px; background-color: #e1e1e1; border: 3px solid #9D9D9D; border-radius: 5px; position: absolute;\"> </div>\n",
       "    <div style=\"margin-left: 48px;\">\n",
       "        <h3 style=\"margin-bottom: 0px;\">Client</h3>\n",
       "        <p style=\"color: #9D9D9D; margin-bottom: 0px;\">Client-faba8ea2-e6f7-11ef-bd30-b41b305a5aa9</p>\n",
       "        <table style=\"width: 100%; text-align: left;\">\n",
       "\n",
       "        <tr>\n",
       "        \n",
       "            <td style=\"text-align: left;\"><strong>Connection method:</strong> Cluster object</td>\n",
       "            <td style=\"text-align: left;\"><strong>Cluster type:</strong> distributed.LocalCluster</td>\n",
       "        \n",
       "        </tr>\n",
       "\n",
       "        \n",
       "            <tr>\n",
       "                <td style=\"text-align: left;\">\n",
       "                    <strong>Dashboard: </strong> <a href=\"http://10.220.10.17:8788/status\" target=\"_blank\">http://10.220.10.17:8788/status</a>\n",
       "                </td>\n",
       "                <td style=\"text-align: left;\"></td>\n",
       "            </tr>\n",
       "        \n",
       "\n",
       "        </table>\n",
       "\n",
       "        \n",
       "\n",
       "        \n",
       "            <details>\n",
       "            <summary style=\"margin-bottom: 20px;\"><h3 style=\"display: inline;\">Cluster Info</h3></summary>\n",
       "            <div class=\"jp-RenderedHTMLCommon jp-RenderedHTML jp-mod-trusted jp-OutputArea-output\">\n",
       "    <div style=\"width: 24px; height: 24px; background-color: #e1e1e1; border: 3px solid #9D9D9D; border-radius: 5px; position: absolute;\">\n",
       "    </div>\n",
       "    <div style=\"margin-left: 48px;\">\n",
       "        <h3 style=\"margin-bottom: 0px; margin-top: 0px;\">LocalCluster</h3>\n",
       "        <p style=\"color: #9D9D9D; margin-bottom: 0px;\">571e6341</p>\n",
       "        <table style=\"width: 100%; text-align: left;\">\n",
       "            <tr>\n",
       "                <td style=\"text-align: left;\">\n",
       "                    <strong>Dashboard:</strong> <a href=\"http://10.220.10.17:8788/status\" target=\"_blank\">http://10.220.10.17:8788/status</a>\n",
       "                </td>\n",
       "                <td style=\"text-align: left;\">\n",
       "                    <strong>Workers:</strong> 1\n",
       "                </td>\n",
       "            </tr>\n",
       "            <tr>\n",
       "                <td style=\"text-align: left;\">\n",
       "                    <strong>Total threads:</strong> 20\n",
       "                </td>\n",
       "                <td style=\"text-align: left;\">\n",
       "                    <strong>Total memory:</strong> 20.49 GiB\n",
       "                </td>\n",
       "            </tr>\n",
       "            \n",
       "            <tr>\n",
       "    <td style=\"text-align: left;\"><strong>Status:</strong> running</td>\n",
       "    <td style=\"text-align: left;\"><strong>Using processes:</strong> False</td>\n",
       "</tr>\n",
       "\n",
       "            \n",
       "        </table>\n",
       "\n",
       "        <details>\n",
       "            <summary style=\"margin-bottom: 20px;\">\n",
       "                <h3 style=\"display: inline;\">Scheduler Info</h3>\n",
       "            </summary>\n",
       "\n",
       "            <div style=\"\">\n",
       "    <div>\n",
       "        <div style=\"width: 24px; height: 24px; background-color: #FFF7E5; border: 3px solid #FF6132; border-radius: 5px; position: absolute;\"> </div>\n",
       "        <div style=\"margin-left: 48px;\">\n",
       "            <h3 style=\"margin-bottom: 0px;\">Scheduler</h3>\n",
       "            <p style=\"color: #9D9D9D; margin-bottom: 0px;\">Scheduler-3479d60c-e652-4d14-9699-9a438d8cc782</p>\n",
       "            <table style=\"width: 100%; text-align: left;\">\n",
       "                <tr>\n",
       "                    <td style=\"text-align: left;\">\n",
       "                        <strong>Comm:</strong> inproc://10.220.10.17/15664/1\n",
       "                    </td>\n",
       "                    <td style=\"text-align: left;\">\n",
       "                        <strong>Workers:</strong> 1\n",
       "                    </td>\n",
       "                </tr>\n",
       "                <tr>\n",
       "                    <td style=\"text-align: left;\">\n",
       "                        <strong>Dashboard:</strong> <a href=\"http://10.220.10.17:8788/status\" target=\"_blank\">http://10.220.10.17:8788/status</a>\n",
       "                    </td>\n",
       "                    <td style=\"text-align: left;\">\n",
       "                        <strong>Total threads:</strong> 20\n",
       "                    </td>\n",
       "                </tr>\n",
       "                <tr>\n",
       "                    <td style=\"text-align: left;\">\n",
       "                        <strong>Started:</strong> Just now\n",
       "                    </td>\n",
       "                    <td style=\"text-align: left;\">\n",
       "                        <strong>Total memory:</strong> 20.49 GiB\n",
       "                    </td>\n",
       "                </tr>\n",
       "            </table>\n",
       "        </div>\n",
       "    </div>\n",
       "\n",
       "    <details style=\"margin-left: 48px;\">\n",
       "        <summary style=\"margin-bottom: 20px;\">\n",
       "            <h3 style=\"display: inline;\">Workers</h3>\n",
       "        </summary>\n",
       "\n",
       "        \n",
       "        <div style=\"margin-bottom: 20px;\">\n",
       "            <div style=\"width: 24px; height: 24px; background-color: #DBF5FF; border: 3px solid #4CC9FF; border-radius: 5px; position: absolute;\"> </div>\n",
       "            <div style=\"margin-left: 48px;\">\n",
       "            <details>\n",
       "                <summary>\n",
       "                    <h4 style=\"margin-bottom: 0px; display: inline;\">Worker: 0</h4>\n",
       "                </summary>\n",
       "                <table style=\"width: 100%; text-align: left;\">\n",
       "                    <tr>\n",
       "                        <td style=\"text-align: left;\">\n",
       "                            <strong>Comm: </strong> inproc://10.220.10.17/15664/4\n",
       "                        </td>\n",
       "                        <td style=\"text-align: left;\">\n",
       "                            <strong>Total threads: </strong> 20\n",
       "                        </td>\n",
       "                    </tr>\n",
       "                    <tr>\n",
       "                        <td style=\"text-align: left;\">\n",
       "                            <strong>Dashboard: </strong> <a href=\"http://10.220.10.17:65361/status\" target=\"_blank\">http://10.220.10.17:65361/status</a>\n",
       "                        </td>\n",
       "                        <td style=\"text-align: left;\">\n",
       "                            <strong>Memory: </strong> 20.49 GiB\n",
       "                        </td>\n",
       "                    </tr>\n",
       "                    <tr>\n",
       "                        <td style=\"text-align: left;\">\n",
       "                            <strong>Nanny: </strong> None\n",
       "                        </td>\n",
       "                        <td style=\"text-align: left;\"></td>\n",
       "                    </tr>\n",
       "                    <tr>\n",
       "                        <td colspan=\"2\" style=\"text-align: left;\">\n",
       "                            <strong>Local directory: </strong> C:\\Users\\amali\\AppData\\Local\\Temp\\dask-scratch-space\\worker-8qwtzgai\n",
       "                        </td>\n",
       "                    </tr>\n",
       "\n",
       "                    \n",
       "                    <tr>\n",
       "                        <td style=\"text-align: left;\">\n",
       "                            <strong>GPU: </strong>NVIDIA GeForce RTX 4050 Laptop GPU\n",
       "                        </td>\n",
       "                        <td style=\"text-align: left;\">\n",
       "                            <strong>GPU memory: </strong> 6.00 GiB\n",
       "                        </td>\n",
       "                    </tr>\n",
       "                    \n",
       "\n",
       "                    \n",
       "\n",
       "                </table>\n",
       "            </details>\n",
       "            </div>\n",
       "        </div>\n",
       "        \n",
       "\n",
       "    </details>\n",
       "</div>\n",
       "\n",
       "        </details>\n",
       "    </div>\n",
       "</div>\n",
       "            </details>\n",
       "        \n",
       "\n",
       "    </div>\n",
       "</div>"
      ],
      "text/plain": [
       "<Client: 'inproc://10.220.10.17/15664/1' processes=1 threads=20, memory=20.49 GiB>"
      ]
     },
     "execution_count": 3,
     "metadata": {},
     "output_type": "execute_result"
    }
   ],
   "source": [
    "client = Client(cluster)\n",
    "periods= 1\n",
    "timeframe= 3\n",
    "top_coins= 2\n",
    "api_key= \"CG-r57ENE22zzPUiLmjnyFK7YHw\"\n",
    "headers = {\n",
    "    \"accept\": \"application/json\",\n",
    "    \"x-cg-demo-api-key\": api_key\n",
    "    }\n",
    "client"
   ]
  },
  {
   "cell_type": "code",
   "execution_count": null,
   "metadata": {},
   "outputs": [],
   "source": [
    "# client.close()\n",
    "# cluster.close()"
   ]
  },
  {
   "cell_type": "code",
   "execution_count": null,
   "metadata": {},
   "outputs": [],
   "source": [
    "# df_pandas= My_API_Wraps.CoinGecko_HSPD_Pandas(timeframe, top_coins, periods, api_key)\n",
    "# EF_pandas= My_FE_Wraps.EF_Pandas_MultiprocessingDistributor(df_pandas, ParameterComplexity=0)\n",
    "# SF_pandas= My_FS_Wraps.SF_Pandas_Simple(EF_pandas)\n",
    "# df_pandas= My_API_Wraps.CoinGecko_HSPD_Pandas(timeframe, top_coins, periods, api_key)\n",
    "# EF_pandas2= My_FE_Wraps.EF_Pandas_DaskDistributor(df_pandas, cluster.scheduler_address, ParameterComplexity=0)\n",
    "# SF_pandas= My_FS_Wraps.SF_Pandas_Simple(EF_pandas2)"
   ]
  },
  {
   "cell_type": "code",
   "execution_count": 21,
   "metadata": {},
   "outputs": [],
   "source": [
    "raw_data= client.submit(My_API_Wraps.CoinGecko_HSPD_Dask, timeframe=timeframe, top_coins=top_coins, periods=periods, api_key=api_key, splits=timeframe*3)\n",
    "ef= client.submit(My_FE_Wraps.EF_Dask, raw_data, ParameterComplexity=1, splits=1)\n",
    "y = client.persist(ef.result()['y_future'].dropna().repartition(npartitions=10))\n",
    "# extracted_features= client.persist(ef.result())\n",
    "sf= client.submit(My_FS_Wraps.SF_Dask_v1, ef, p_value=0.05)\n",
    "X= client.persist(sf.result().repartition(npartitions=10))"
   ]
  },
  {
   "cell_type": "code",
   "execution_count": null,
   "metadata": {},
   "outputs": [
    {
     "name": "stderr",
     "output_type": "stream",
     "text": [
      "Windows is not officially supported for dask/xgboost, contribution are welcomed.\n",
      "Windows is not officially supported for dask/xgboost, contribution are welcomed.\n"
     ]
    }
   ],
   "source": [
    "X_train= X.partitions[0:7].persist()\n",
    "y_train= y.partitions[0:7].persist()\n",
    "X_test= X.partitions[7:9].persist()\n",
    "y_test= y.partitions[7:9].persist()\n",
    "dtrain = dxgb.DaskDMatrix(client, X_train, y_train)"
   ]
  },
  {
   "cell_type": "code",
   "execution_count": null,
   "metadata": {},
   "outputs": [
    {
     "name": "stderr",
     "output_type": "stream",
     "text": [
      "[I 2025-02-09 16:21:31,058] A new study created in memory with name: no-name-b2b5d1ac-5781-484f-a4e2-2ba43fab832f\n"
     ]
    },
    {
     "data": {
      "application/vnd.jupyter.widget-view+json": {
       "model_id": "18cf5454b95742e3a76706c4a9b00ddb",
       "version_major": 2,
       "version_minor": 0
      },
      "text/plain": [
       "  0%|          | 0/20 [00:00<?, ?it/s]"
      ]
     },
     "metadata": {},
     "output_type": "display_data"
    },
    {
     "name": "stderr",
     "output_type": "stream",
     "text": [
      "Windows is not officially supported for dask/xgboost, contribution are welcomed.\n",
      "Windows is not officially supported for dask/xgboost, contribution are welcomed.\n",
      "Windows is not officially supported for dask/xgboost, contribution are welcomed.\n",
      "Windows is not officially supported for dask/xgboost, contribution are welcomed.\n",
      "Windows is not officially supported for dask/xgboost, contribution are welcomed.\n",
      "Windows is not officially supported for dask/xgboost, contribution are welcomed.\n",
      "Windows is not officially supported for dask/xgboost, contribution are welcomed.\n",
      "Windows is not officially supported for dask/xgboost, contribution are welcomed.\n",
      "Windows is not officially supported for dask/xgboost, contribution are welcomed.\n",
      "Windows is not officially supported for dask/xgboost, contribution are welcomed.\n",
      "Windows is not officially supported for dask/xgboost, contribution are welcomed.\n",
      "Windows is not officially supported for dask/xgboost, contribution are welcomed.\n",
      "Windows is not officially supported for dask/xgboost, contribution are welcomed.\n",
      "Windows is not officially supported for dask/xgboost, contribution are welcomed.\n",
      "Windows is not officially supported for dask/xgboost, contribution are welcomed.\n",
      "Windows is not officially supported for dask/xgboost, contribution are welcomed.\n",
      "Windows is not officially supported for dask/xgboost, contribution are welcomed.\n",
      "Windows is not officially supported for dask/xgboost, contribution are welcomed.\n",
      "Windows is not officially supported for dask/xgboost, contribution are welcomed.\n",
      "Windows is not officially supported for dask/xgboost, contribution are welcomed.\n"
     ]
    },
    {
     "name": "stdout",
     "output_type": "stream",
     "text": [
      "[I 2025-02-09 16:21:31,803] Trial 0 finished with value: 48.89361945950255 and parameters: {'lambda': 5.649524945766683, 'alpha': 2.054851467815057, 'colsample_bytree': 0.88576930086535, 'max_depth': 7, 'min_child_weight': 36.64242304845732, 'learning_rate': 0.00428637197983366, 'gamma': 0.5914890233866187}. Best is trial 0 with value: 48.89361945950255.\n",
      "[I 2025-02-09 16:21:33,274] Trial 1 finished with value: 48.89361945950255 and parameters: {'lambda': 0.11908645003009811, 'alpha': 71.96418968433095, 'colsample_bytree': 0.3362327832183315, 'max_depth': 4, 'min_child_weight': 35.56830687998333, 'learning_rate': 2.799298351691444e-08, 'gamma': 0.006218749354019758}. Best is trial 0 with value: 48.89361945950255.\n",
      "[I 2025-02-09 16:21:35,099] Trial 2 finished with value: 48.743188974808675 and parameters: {'lambda': 77.3417461055596, 'alpha': 2.207701173030209e-08, 'colsample_bytree': 0.5020049802423473, 'max_depth': 8, 'min_child_weight': 0.0006301045048771859, 'learning_rate': 0.0006391803343107797, 'gamma': 3.6763689582910135e-08}. Best is trial 2 with value: 48.743188974808675.\n",
      "[I 2025-02-09 16:21:36,733] Trial 3 finished with value: 38.43520308514031 and parameters: {'lambda': 0.005758860275654629, 'alpha': 1.9852905881193215, 'colsample_bytree': 0.24439857656419728, 'max_depth': 4, 'min_child_weight': 2.0810269239545553e-07, 'learning_rate': 0.012102061280949478, 'gamma': 0.021215383130752257}. Best is trial 3 with value: 38.43520308514031.\n",
      "[I 2025-02-09 16:21:38,776] Trial 4 finished with value: 48.89361945950255 and parameters: {'lambda': 0.29334007963462083, 'alpha': 1.0154605113277315e-08, 'colsample_bytree': 0.6836996449977111, 'max_depth': 3, 'min_child_weight': 0.000605294808741996, 'learning_rate': 1.328529413658523e-07, 'gamma': 2.9118833029517804e-07}. Best is trial 3 with value: 38.43520308514031.\n",
      "[I 2025-02-09 16:21:40,107] Trial 5 finished with value: 46.73701570471939 and parameters: {'lambda': 0.006446039057563848, 'alpha': 45.000809762655514, 'colsample_bytree': 0.8682257293304168, 'max_depth': 8, 'min_child_weight': 6.708290601217249e-07, 'learning_rate': 0.002484861445185086, 'gamma': 2.9554383182802544e-06}. Best is trial 3 with value: 38.43520308514031.\n",
      "[I 2025-02-09 16:21:41,693] Trial 6 finished with value: 48.89179587850765 and parameters: {'lambda': 0.0036682268428841424, 'alpha': 0.6109360486363449, 'colsample_bytree': 0.3471641598997707, 'max_depth': 7, 'min_child_weight': 3.591514211513292e-05, 'learning_rate': 2.248345685231513e-06, 'gamma': 0.019031698683260014}. Best is trial 3 with value: 38.43520308514031.\n",
      "[I 2025-02-09 16:21:43,186] Trial 8 finished with value: 48.89361945950255 and parameters: {'lambda': 63.969370351529946, 'alpha': 1.3772286419388738e-07, 'colsample_bytree': 0.6359303028834209, 'max_depth': 10, 'min_child_weight': 1.7733726124252052e-06, 'learning_rate': 5.993765087272519e-06, 'gamma': 0.023518653356628907}. Best is trial 3 with value: 38.43520308514031.\n",
      "[I 2025-02-09 16:21:44,563] Trial 7 finished with value: 48.69481923628827 and parameters: {'lambda': 28.34387425895252, 'alpha': 6.106082301934689e-07, 'colsample_bytree': 0.9422165130155562, 'max_depth': 3, 'min_child_weight': 0.24658929892268788, 'learning_rate': 0.0004492411421910665, 'gamma': 0.00018777482397023848}. Best is trial 3 with value: 38.43520308514031.\n",
      "[I 2025-02-09 16:21:45,998] Trial 9 finished with value: 48.89361945950255 and parameters: {'lambda': 6.605366126428835, 'alpha': 1.7713696549332011e-06, 'colsample_bytree': 0.901312470216485, 'max_depth': 4, 'min_child_weight': 1.794977349373575e-07, 'learning_rate': 4.209604514123051e-08, 'gamma': 0.0002611942150610712}. Best is trial 3 with value: 38.43520308514031.\n",
      "[I 2025-02-09 16:21:47,714] Trial 11 finished with value: 46.02318339445153 and parameters: {'lambda': 0.009945492833342335, 'alpha': 63.02634185809978, 'colsample_bytree': 0.6896458781964063, 'max_depth': 9, 'min_child_weight': 0.0019723702611320953, 'learning_rate': 0.0034301151252178, 'gamma': 0.0003866692461444163}. Best is trial 3 with value: 38.43520308514031.\n",
      "[I 2025-02-09 16:21:49,322] Trial 10 finished with value: 48.89361945950255 and parameters: {'lambda': 47.31170099375882, 'alpha': 0.10860116992032295, 'colsample_bytree': 0.38692340745198567, 'max_depth': 4, 'min_child_weight': 0.002424374296496738, 'learning_rate': 6.309110600049054e-06, 'gamma': 0.10975983222079379}. Best is trial 3 with value: 38.43520308514031.\n",
      "[I 2025-02-09 16:21:50,820] Trial 13 finished with value: 38.4741061463648 and parameters: {'lambda': 0.00015621779362527064, 'alpha': 13.83765646337328, 'colsample_bytree': 0.8153139799798008, 'max_depth': 2, 'min_child_weight': 0.00027052778182215856, 'learning_rate': 0.012260922049949817, 'gamma': 1.1197859275749144e-07}. Best is trial 3 with value: 38.43520308514031.\n",
      "[I 2025-02-09 16:21:52,788] Trial 12 finished with value: 48.89361945950255 and parameters: {'lambda': 0.007525766556616431, 'alpha': 0.5600653009759456, 'colsample_bytree': 0.36628184939034575, 'max_depth': 5, 'min_child_weight': 0.053901804820166765, 'learning_rate': 2.1746527967253093e-07, 'gamma': 0.008202078562604744}. Best is trial 3 with value: 38.43520308514031.\n",
      "[I 2025-02-09 16:21:54,220] Trial 14 finished with value: 23.438920001594386 and parameters: {'lambda': 0.43045246889686795, 'alpha': 7.52217434116987e-06, 'colsample_bytree': 0.7769216156629366, 'max_depth': 3, 'min_child_weight': 4.37765260628358e-05, 'learning_rate': 0.038656279705915134, 'gamma': 0.00019754115264628954}. Best is trial 14 with value: 23.438920001594386.\n",
      "[I 2025-02-09 16:21:55,696] Trial 15 finished with value: 48.89361945950255 and parameters: {'lambda': 0.01518225187581213, 'alpha': 0.001530307176953601, 'colsample_bytree': 0.499329908010317, 'max_depth': 10, 'min_child_weight': 0.002995323322338142, 'learning_rate': 1.5533464749934738e-08, 'gamma': 0.587859837846504}. Best is trial 14 with value: 23.438920001594386.\n",
      "[I 2025-02-09 16:21:57,209] Trial 16 finished with value: 48.888836296237244 and parameters: {'lambda': 0.000811478441394647, 'alpha': 5.201146700840756e-07, 'colsample_bytree': 0.4265982787527037, 'max_depth': 4, 'min_child_weight': 2.6817979149498396e-06, 'learning_rate': 4.792034366565122e-06, 'gamma': 0.11417252693242437}. Best is trial 14 with value: 23.438920001594386.\n",
      "[I 2025-02-09 16:21:58,617] Trial 17 finished with value: 48.89361945950255 and parameters: {'lambda': 0.004438294243078266, 'alpha': 0.0011955905947185058, 'colsample_bytree': 0.3538611136177197, 'max_depth': 8, 'min_child_weight': 77.44540074645917, 'learning_rate': 0.03316881919789659, 'gamma': 1.1233761408209215e-08}. Best is trial 14 with value: 23.438920001594386.\n",
      "[I 2025-02-09 16:22:00,251] Trial 19 finished with value: 48.89361945950255 and parameters: {'lambda': 0.17546416985710936, 'alpha': 8.063932989851221e-08, 'colsample_bytree': 0.9962707857377968, 'max_depth': 4, 'min_child_weight': 3.1088743081736006, 'learning_rate': 4.1773470637489805e-07, 'gamma': 8.54494758885365e-07}. Best is trial 14 with value: 23.438920001594386.\n",
      "[I 2025-02-09 16:22:01,798] Trial 18 finished with value: 17.556680484693878 and parameters: {'lambda': 0.12113151790803549, 'alpha': 8.314720704300028, 'colsample_bytree': 0.6674341888750475, 'max_depth': 7, 'min_child_weight': 0.0022086449464947997, 'learning_rate': 0.05318763641868539, 'gamma': 0.002408639781326289}. Best is trial 18 with value: 17.556680484693878.\n"
     ]
    }
   ],
   "source": [
    "import optuna\n",
    "# # 1. Prepare data\n",
    "def objective(trial):\n",
    "    params = {\n",
    "        # Core Parameters\n",
    "        \"verbosity\": 0,\n",
    "        \"tree_method\": \"hist\",\n",
    "        \"eval_metric\": 'mae',\n",
    "        # Essential Parameters\n",
    "        \"lambda\": trial.suggest_float(\"lambda\", 1e-8, 100.0, log=True),\n",
    "        \"alpha\": trial.suggest_float(\"alpha\", 1e-8, 100.0, log=True),\n",
    "        \"colsample_bytree\": trial.suggest_float(\"colsample_bytree\", 0.2, 1.0),\n",
    "        \"max_depth\": trial.suggest_int(\"max_depth\", 2, 10),\n",
    "        \"min_child_weight\": trial.suggest_float(\"min_child_weight\", 1e-8, 100, log=True),\n",
    "        \"learning_rate\": trial.suggest_float(\"learning_rate\", 1e-8, 1.0, log=True),\n",
    "        \"gamma\": trial.suggest_float(\"gamma\", 1e-8, 1.0, log=True)\n",
    "    }\n",
    "    \n",
    "    try:\n",
    "        output = dxgb.train(\n",
    "            client,\n",
    "            params,\n",
    "            dtrain,\n",
    "            num_boost_round=20,\n",
    "            evals=[(dtrain, \"train\")]\n",
    "        )\n",
    "        return output[\"history\"][\"train\"][\"mae\"][-1]\n",
    "    except Exception as e:\n",
    "        print(f\"Error in training: {str(e)}\")\n",
    "        return float('inf')\n",
    "\n",
    "# Create and run study\n",
    "study = optuna.create_study(direction=\"minimize\")\n",
    "study.optimize(objective, n_trials=20, n_jobs=-1, show_progress_bar=True)\n"
   ]
  },
  {
   "cell_type": "code",
   "execution_count": 45,
   "metadata": {},
   "outputs": [
    {
     "name": "stderr",
     "output_type": "stream",
     "text": [
      "Windows is not officially supported for dask/xgboost, contribution are welcomed.\n",
      "Windows is not officially supported for dask/xgboost, contribution are welcomed.\n"
     ]
    },
    {
     "name": "stdout",
     "output_type": "stream",
     "text": [
      "Standard_Dev: 15.825819793964417\n",
      "Best parameters: {'lambda': 0.12113151790803549, 'alpha': 8.314720704300028, 'colsample_bytree': 0.6674341888750475, 'max_depth': 7, 'min_child_weight': 0.0022086449464947997, 'learning_rate': 0.05318763641868539, 'gamma': 0.002408639781326289}\n",
      "Best RMSE: 17.556680484693878\n",
      "R2 Score: -5.914325046800371\n",
      "score/std: 1.109369417399127\n"
     ]
    },
    {
     "data": {
      "text/plain": [
       "<Axes: xlabel='datetime'>"
      ]
     },
     "execution_count": 45,
     "metadata": {},
     "output_type": "execute_result"
    },
    {
     "data": {
      "image/png": "[encoded data removed]",
      "text/plain": [
       "<Figure size 2000x1000 with 1 Axes>"
      ]
     },
     "metadata": {},
     "output_type": "display_data"
    }
   ],
   "source": [
    "final_model= dxgb.train(client, study.best_params, dtrain, num_boost_round=300, evals=[(dtrain, \"train\")])\n",
    "dtest = dd.from_pandas(X_test.compute())\n",
    "# dxgb.DaskDMatrix(client, X_test, y_test)  # Ensure the test data has the same features as the training data\n",
    "predictions = dxgb.predict(client, final_model, dtest)\n",
    "r2 = r2_score(y_test.compute(), predictions)\n",
    "std = y_test.std().compute()\n",
    "score = study.best_value\n",
    "Thresh_var = score/std \n",
    "print('Standard_Dev: '+ f'{std}')\n",
    "print(f\"Best parameters: {study.best_params}\")\n",
    "print(f\"Best RMSE: {study.best_value}\")\n",
    "print(f\"R2 Score: {r2}\")\n",
    "print(f'score/std: {Thresh_var}')\n",
    "viz= pd.DataFrame(columns=[\"Predicted\", \"Actual\"], index=y_test.index.compute())\n",
    "viz['Predicted'] = predictions\n",
    "viz['Actual'] = y_test.compute().values\n",
    "viz.plot(figsize=(20,10))"
   ]
  },
  {
   "cell_type": "code",
   "execution_count": null,
   "metadata": {},
   "outputs": [],
   "source": [
    "# X_values = X_test.to_dask_array(lengths=True).persist()\n",
    "# y_values = y_test.to_dask_array(lengths=True).persist()\n",
    "# # Create DaskMatrix with numpy arrays\n",
    "# dtest = dxgb.DaskQuantileDMatrix(client, X_values, y_values)\n",
    "# final_model= dxgb.train(client, study.best_params, dtrain, num_boost_round=100, evals=[(dtrain, \"train\")])\n",
    "# predictions = dxgb.predict(client, final_model['booster'], X_values).compute()\n",
    "# r2 = r2_score(y_values.compute(), predictions)\n",
    "# std = y_test.std().compute()\n",
    "# score = study.best_value\n",
    "# Thresh_var = score/std \n",
    "# print('Standard_Dev: '+ f'{std}')\n",
    "# print(f\"Best parameters: {study.best_params}\")\n",
    "# print(f\"Best RMSE: {study.best_value}\")\n",
    "# print(f\"R2 Score: {r2}\")\n",
    "# print(f'score/std: {Thresh_var}')\n",
    "# viz= pd.DataFrame(columns=[\"Predicted\", \"Actual\"], index=y_test.index.compute())\n",
    "# viz['Predicted'] = predictions\n",
    "# viz['Actual'] = y_test.compute().values\n",
    "# viz.plot(figsize=(20,10))\n",
    "# # Trial 18 finished with value: 1.893057914402174 and parameters: {'lambda': 1.5466954034804144e-07, 'alpha': 86.9687234842023, 'colsample_bytree': 0.819553438689065, 'max_depth': 4, 'min_child_weight': 0.002451210332961274, 'learning_rate': 0.46436439361631066, 'gamma': 5.4389970694464654e-08}. Best is trial 18 with value: 1.893057914402174.\n"
   ]
  },
  {
   "cell_type": "code",
   "execution_count": null,
   "metadata": {},
   "outputs": [],
   "source": [
    "# estimated_performance = r2_score(y_eval.compute(), predictions)\n",
    "# predictions = pd.DataFrame(predictions, columns= ['predicted_testtrain'], index= X_eval.index.compute().shift(freq=f'{periods}min'))\n",
    "# predictions['realised']= y_eval.compute().values\n",
    "# # predictions= predictions* 100\n",
    "# score = study.best_value\n",
    "# std = y_eval.std().compute()\n",
    "# print('RMSE: '+ f'{score}')\n",
    "# print('Standard_Dev: '+ f'{std}')\n",
    "# print(f'R2: {estimated_performance}')\n",
    "# feature_imp= pd.DataFrame.from_dict(booster.get_fscore(), orient='index', columns=['feature_importance']).sort_values(by='feature_importance', ascending=False)\n",
    "# # feature_imp = pd.DataFrame(data = chosen_model.feature_importances_, index= chosen_model.feature_names_in_, columns=['f_imp']).sort_values(ascending=False, by='f_imp')\n",
    "# Thresh_var = score/std \n",
    "# print(f'score/std: {Thresh_var}')\n",
    "# display(feature_imp)"
   ]
  },
  {
   "cell_type": "code",
   "execution_count": null,
   "metadata": {},
   "outputs": [],
   "source": [
    "# GPU Accelerated XGBoost Using Random Gridsearch for Hyperparameter Tuning \n",
    "from sklearn.model_selection import TimeSeriesSplit\n",
    "tscv = TimeSeriesSplit(n_splits=5)\n",
    "model_parameters={\n",
    "'num_parallel_tree': [1,3,5,10,20],\n",
    "'learning_rate': [0.01,0.01,0.05,0.1,0.5,1],\n",
    "'max_depth': [3,6,12,24,48],\n",
    "'gamma':[0,0.01,0.05,0.1,0.5,1,5,25],\n",
    "'min_child_weight':[0.5,1,3,5],\n",
    "'subsample':[1,0.05, 0.1,0.25,0.5],\n",
    "'sampling_method':['uniform', 'gradient_based'],\n",
    "'colsample_bytree':[1, 0.1, 0.5, 1],\n",
    "'grow_policy':['depthwise', 'lossguide']\n",
    "}\n",
    "basemodel= xgb.XGBRegressor(eval_metric='mae', early_stopping_rounds=25, \n",
    "                        device= 'cuda',tree_method='hist', n_jobs=1, verbose=0)\n",
    "rgs= RandomizedSearchCV(estimator=basemodel, verbose= 25, n_jobs=1,\n",
    "                        cv=tscv,param_distributions=model_parameters, n_iter=20, refit=True).fit(X_train, y_train, eval_set=[X_test, y_test])"
   ]
  },
  {
   "cell_type": "code",
   "execution_count": null,
   "metadata": {},
   "outputs": [],
   "source": [
    "# Model Results\n",
    "chosen_model= xgb.XGBRegressor(eval_metric='mae', early_stopping_rounds= 25, device= 'cuda',tree_method='hist',**rgs.best_params_, n_jobs=1)\n",
    "chosen_model.fit(X_train_cp, y_train_cp, eval_set= [(X_test_cp, y_test_cp)])\n",
    "preds=chosen_model.predict(X_test)\n",
    "estimated_performance = r2_score(y_test, preds)\n",
    "predictions = pd.DataFrame(preds, columns= ['predicted_testtrain'], index= X_test.index.shift(freq=f'{periods}min'))\n",
    "predictions['realised']= y_test.values\n",
    "predictions= predictions* 100\n",
    "score = chosen_model.best_score*100\n",
    "std = features['y_future'].std()*100\n",
    "print('Mean_absolute error: '+ f'{score}')\n",
    "print('Standard_Dev: '+ f'{std}')\n",
    "print(f'R2: {estimated_performance}')\n",
    "feature_imp = pd.DataFrame(data = chosen_model.feature_importances_, index= chosen_model.feature_names_in_, columns=['f_imp']).sort_values(ascending=False, by='f_imp')\n",
    "Thresh_var = score/std \n",
    "print(f'score/std: {Thresh_var}')\n",
    "display(feature_imp)"
   ]
  },
  {
   "cell_type": "code",
   "execution_count": null,
   "metadata": {},
   "outputs": [],
   "source": [
    "# # final model for deployment and plot of predicted, realised, and untested future predictions\n",
    "final_model = xgb.XGBRegressor(device= 'cuda',tree_method='hist',**rgs.best_params_)\n",
    "final_model.fit(X, y)\n",
    "deployment_preds= features.drop('y_future', axis=1)[X.columns].tail(shift)\n",
    "dep_preds=final_model.predict(deployment_preds)\n",
    "dep_preds= pd.Series(dep_preds, index=deployment_preds.index.shift(freq=freq), name='untested_predictions')\n",
    "predictions.join(dep_preds, how='outer').plot()"
   ]
  },
  {
   "cell_type": "code",
   "execution_count": null,
   "metadata": {},
   "outputs": [],
   "source": [
    "# # PancakeSwap API\n",
    "# import requests\n",
    "# import json\n",
    "\n",
    "# # Replace with your PancakeSwap API endpoint and API key\n",
    "API_ENDPOINT = 'https://api.pancakeswap.info/api/v2/orders'\n",
    "API_KEY = 'your_api_key_here'\n",
    "\n",
    "def place_order(order_type, amount, leverage, price=None):\n",
    "    headers = {\n",
    "        'Content-Type': 'application/json',\n",
    "        'Authorization': f'Bearer {API_KEY}'\n",
    "    }\n",
    "    order_data = {\n",
    "        'type': order_type,  # 'buy' or 'sell'\n",
    "        'amount': amount,    # Amount of ETH to trade\n",
    "        'leverage': leverage # Leverage to use\n",
    "    }\n",
    "    if price:\n",
    "        order_data['price'] = price  # Set price for limit orders\n",
    "    else:\n",
    "        order_data['price'] = 'market'  # Set price to market for market orders\n",
    "\n",
    "    response = requests.post(API_ENDPOINT, headers=headers, data=json.dumps(order_data))\n",
    "    if response.status_code == 200:\n",
    "        print(f\"Order placed successfully: {response.json()}\")\n",
    "    else:\n",
    "        print(f\"Failed to place order: {response.status_code}, {response.text}\")\n",
    "\n",
    "# Example usage\n",
    "place_order('buy', 0.1, 10)  # Place a market buy order for 0.1 ETH with 10x leverage\n",
    "place_order('sell', 0.1, 10, 3600.10)  # Place a limit sell order for 0.1 ETH at $3600.10 with 10x leverage\n",
    "# In this example, if you don't provide a price, the order will be placed at the market price. If you provide a price, it will be treated as a limit order. This way, you can easily switch between market and limit orders based on your trading strategy. Happy trading!\n",
    "\n",
    "\n",
    "def execute_trade(prediction): \n",
    "    if prediction >= 0.02: \n",
    "        place_order('buy', 0.1, 10)  # Place a buy order for 0.1 ETH at $3600.10 with 10x leverage\n",
    "    elif prediction <= -0.02:\n",
    "        place_order('sell', 0.1, 10)\n",
    "\n"
   ]
  },
  {
   "cell_type": "code",
   "execution_count": null,
   "metadata": {},
   "outputs": [],
   "source": [
    "# # Main trading loop\n",
    "# while True:\n",
    "#     market_data = fetch_market_data()\n",
    "#     prediction = make_prediction(market_data)\n",
    "#     execute_trade(prediction)\n",
    "#     # Sleep for 30 minutes before making the next prediction\n",
    "#     time.sleep(1800)\n"
   ]
  }
 ],
 "metadata": {
  "kernelspec": {
   "display_name": "myenvironment",
   "language": "python",
   "name": "python3"
  },
  "language_info": {
   "codemirror_mode": {
    "name": "ipython",
    "version": 3
   },
   "file_extension": ".py",
   "mimetype": "text/x-python",
   "name": "python",
   "nbconvert_exporter": "python",
   "pygments_lexer": "ipython3",
   "version": "3.12.7"
  }
 },
 "nbformat": 4,
 "nbformat_minor": 2
}
